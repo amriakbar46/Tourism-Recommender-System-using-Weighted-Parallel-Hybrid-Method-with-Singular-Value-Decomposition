{
  "nbformat": 4,
  "nbformat_minor": 0,
  "metadata": {
    "colab": {
      "name": "TA yoan revisi.ipynb",
      "provenance": [],
      "collapsed_sections": []
    },
    "kernelspec": {
      "name": "python3",
      "display_name": "Python 3"
    },
    "language_info": {
      "name": "python"
    }
  },
  "cells": [
    {
      "cell_type": "code",
      "metadata": {
        "id": "tJOYVApg41Az"
      },
      "source": [
        "import pandas as pd\n",
        "import numpy as np\n",
        "from google.colab import drive"
      ],
      "execution_count": null,
      "outputs": []
    },
    {
      "cell_type": "code",
      "metadata": {
        "colab": {
          "base_uri": "https://localhost:8080/"
        },
        "id": "Ajk-DCN95DFa",
        "outputId": "ccdcc9a8-b4aa-40f1-9799-4df201630611"
      },
      "source": [
        "#connect ke gdrive\n",
        "drive.mount('/content/drive')"
      ],
      "execution_count": null,
      "outputs": [
        {
          "output_type": "stream",
          "text": [
            "Drive already mounted at /content/drive; to attempt to forcibly remount, call drive.mount(\"/content/drive\", force_remount=True).\n"
          ],
          "name": "stdout"
        }
      ]
    },
    {
      "cell_type": "code",
      "metadata": {
        "id": "VfXInUX05Kcv"
      },
      "source": [
        "#load dataset\n",
        "data1 = r'/content/drive/My Drive/TA/Kodingan/dataset/destinasi.xlsx'\n",
        "data2 = r'/content/drive/My Drive/TA/Kodingan/dataset/rating_user.xlsx'"
      ],
      "execution_count": null,
      "outputs": []
    },
    {
      "cell_type": "markdown",
      "metadata": {
        "id": "WK8rMqz53Le4"
      },
      "source": [
        "**Input User ID**"
      ]
    },
    {
      "cell_type": "code",
      "metadata": {
        "colab": {
          "base_uri": "https://localhost:8080/"
        },
        "id": "WwzDJ7vb3W2m",
        "outputId": "d47081cb-6be0-44a4-9d98-55004029c195"
      },
      "source": [
        "# input id pengguna\n",
        "print('Masukkan id pengguna >>>')\n",
        "input_a = input()\n",
        "input_a = int(input_a)\n",
        "\n",
        "\n",
        "\n",
        "# cek data type\n",
        "print(type(input_a))\n"
      ],
      "execution_count": null,
      "outputs": [
        {
          "output_type": "stream",
          "text": [
            "Masukkan id pengguna >>>\n",
            "34\n",
            "<class 'int'>\n"
          ],
          "name": "stdout"
        }
      ]
    },
    {
      "cell_type": "markdown",
      "metadata": {
        "id": "_ybKj5xV5UMO"
      },
      "source": [
        "**Content-based Filtering**"
      ]
    },
    {
      "cell_type": "code",
      "metadata": {
        "colab": {
          "base_uri": "https://localhost:8080/",
          "height": 414
        },
        "id": "ZHlB9okE5iUw",
        "outputId": "ef1afb28-c8dc-494f-9bc0-db6252c20585"
      },
      "source": [
        "#data1\n",
        "data_cb = pd.read_excel(data1)\n",
        "data_cb"
      ],
      "execution_count": null,
      "outputs": [
        {
          "output_type": "execute_result",
          "data": {
            "text/html": [
              "<div>\n",
              "<style scoped>\n",
              "    .dataframe tbody tr th:only-of-type {\n",
              "        vertical-align: middle;\n",
              "    }\n",
              "\n",
              "    .dataframe tbody tr th {\n",
              "        vertical-align: top;\n",
              "    }\n",
              "\n",
              "    .dataframe thead th {\n",
              "        text-align: right;\n",
              "    }\n",
              "</style>\n",
              "<table border=\"1\" class=\"dataframe\">\n",
              "  <thead>\n",
              "    <tr style=\"text-align: right;\">\n",
              "      <th></th>\n",
              "      <th>id_wisata</th>\n",
              "      <th>nama_wisata</th>\n",
              "      <th>kategori_wisata</th>\n",
              "      <th>alamat</th>\n",
              "    </tr>\n",
              "  </thead>\n",
              "  <tbody>\n",
              "    <tr>\n",
              "      <th>0</th>\n",
              "      <td>0</td>\n",
              "      <td>Masjid Islamic Center</td>\n",
              "      <td>Situs Suci &amp; Agama</td>\n",
              "      <td>Jl. Langko no. 5, Mataram, Lombok Indonesia</td>\n",
              "    </tr>\n",
              "    <tr>\n",
              "      <th>1</th>\n",
              "      <td>1</td>\n",
              "      <td>Lombok Epicentrum</td>\n",
              "      <td>Tempat Belanja</td>\n",
              "      <td>Jl. Sriwijaya no. 333, Mataram, Lombok</td>\n",
              "    </tr>\n",
              "    <tr>\n",
              "      <th>2</th>\n",
              "      <td>2</td>\n",
              "      <td>Hutan Sesaot</td>\n",
              "      <td>Area Wisata Alam &amp; Taman Margasatwa, Hutan</td>\n",
              "      <td>Batu Mekar, Lingsar, Kabupaten Lombok Barat, L...</td>\n",
              "    </tr>\n",
              "    <tr>\n",
              "      <th>3</th>\n",
              "      <td>3</td>\n",
              "      <td>Pura Agung Narmada</td>\n",
              "      <td>Taman</td>\n",
              "      <td>Lembuak, Narmada, Kabupaten Lombok Barat, Lombok</td>\n",
              "    </tr>\n",
              "    <tr>\n",
              "      <th>4</th>\n",
              "      <td>4</td>\n",
              "      <td>Pura Lingsar</td>\n",
              "      <td>Tempat Menarik &amp; Tengara</td>\n",
              "      <td>Jl. Raya Lingsar, Batu Kumbung, Lingsar, Kabup...</td>\n",
              "    </tr>\n",
              "    <tr>\n",
              "      <th>...</th>\n",
              "      <td>...</td>\n",
              "      <td>...</td>\n",
              "      <td>...</td>\n",
              "      <td>...</td>\n",
              "    </tr>\n",
              "    <tr>\n",
              "      <th>73</th>\n",
              "      <td>73</td>\n",
              "      <td>Pantai Gondang</td>\n",
              "      <td>Pantai</td>\n",
              "      <td>Genggelang, Gangga, Kabupaten Lombok Utara, Lo...</td>\n",
              "    </tr>\n",
              "    <tr>\n",
              "      <th>74</th>\n",
              "      <td>74</td>\n",
              "      <td>Pantai Ketapang</td>\n",
              "      <td>Pantai</td>\n",
              "      <td>Jl. Raya Bayan, Selengen, Kayangan, Kabupaten ...</td>\n",
              "    </tr>\n",
              "    <tr>\n",
              "      <th>75</th>\n",
              "      <td>75</td>\n",
              "      <td>Pantai Are Guling</td>\n",
              "      <td>Pantai</td>\n",
              "      <td>Tumpak, Pujut, Kabupaten Lombok Tengah, Lombok</td>\n",
              "    </tr>\n",
              "    <tr>\n",
              "      <th>76</th>\n",
              "      <td>76</td>\n",
              "      <td>Pantai Bangko-Bangko</td>\n",
              "      <td>Pantai</td>\n",
              "      <td>Jalan Putih, Batu Putih, Sekotong Tengah, Kabu...</td>\n",
              "    </tr>\n",
              "    <tr>\n",
              "      <th>77</th>\n",
              "      <td>77</td>\n",
              "      <td>Pantai Makaki</td>\n",
              "      <td>Pantai</td>\n",
              "      <td>Jl. Raya Mekaki, Pelangan, Sekotong Tengah, Ka...</td>\n",
              "    </tr>\n",
              "  </tbody>\n",
              "</table>\n",
              "<p>78 rows × 4 columns</p>\n",
              "</div>"
            ],
            "text/plain": [
              "    id_wisata  ...                                             alamat\n",
              "0           0  ...        Jl. Langko no. 5, Mataram, Lombok Indonesia\n",
              "1           1  ...             Jl. Sriwijaya no. 333, Mataram, Lombok\n",
              "2           2  ...  Batu Mekar, Lingsar, Kabupaten Lombok Barat, L...\n",
              "3           3  ...   Lembuak, Narmada, Kabupaten Lombok Barat, Lombok\n",
              "4           4  ...  Jl. Raya Lingsar, Batu Kumbung, Lingsar, Kabup...\n",
              "..        ...  ...                                                ...\n",
              "73         73  ...  Genggelang, Gangga, Kabupaten Lombok Utara, Lo...\n",
              "74         74  ...  Jl. Raya Bayan, Selengen, Kayangan, Kabupaten ...\n",
              "75         75  ...     Tumpak, Pujut, Kabupaten Lombok Tengah, Lombok\n",
              "76         76  ...  Jalan Putih, Batu Putih, Sekotong Tengah, Kabu...\n",
              "77         77  ...  Jl. Raya Mekaki, Pelangan, Sekotong Tengah, Ka...\n",
              "\n",
              "[78 rows x 4 columns]"
            ]
          },
          "metadata": {
            "tags": []
          },
          "execution_count": 83
        }
      ]
    },
    {
      "cell_type": "code",
      "metadata": {
        "colab": {
          "base_uri": "https://localhost:8080/"
        },
        "id": "GGwlADyX54F6",
        "outputId": "1e1e921b-acf7-4707-d3f2-f6496b1bfdcb"
      },
      "source": [
        "#preprocessing data\n",
        "#1. check missing value\n",
        "data_cb.isna().sum()"
      ],
      "execution_count": null,
      "outputs": [
        {
          "output_type": "execute_result",
          "data": {
            "text/plain": [
              "id_wisata          0\n",
              "nama_wisata        0\n",
              "kategori_wisata    0\n",
              "alamat             0\n",
              "dtype: int64"
            ]
          },
          "metadata": {
            "tags": []
          },
          "execution_count": 84
        }
      ]
    },
    {
      "cell_type": "code",
      "metadata": {
        "colab": {
          "base_uri": "https://localhost:8080/",
          "height": 202
        },
        "id": "6vgGnUEs6tgq",
        "outputId": "441450e6-b8ce-4477-f885-ff239353c24c"
      },
      "source": [
        "#preprocessing data\n",
        "import string \n",
        "import re \n",
        "\n",
        "#2. feature merge\n",
        "data_cb['metadata'] = data_cb['kategori_wisata'].str.cat(data_cb['alamat'], sep=', ').to_frame()\n",
        "\n",
        "#3. lower case\n",
        "def lower_case(text):\n",
        "  return text.casefold()\n",
        "\n",
        "data_cb['metadata'] = data_cb['metadata'].apply(lower_case)\n",
        "\n",
        "#4. remove number\n",
        "def remove_number(text):\n",
        "    return  re.sub(r\"\\d+\", \"\", text)\n",
        "\n",
        "data_cb['metadata'] = data_cb['metadata'].apply(remove_number)\n",
        "\n",
        "#5. remove punctuation\n",
        "def remove_punctuation(text):\n",
        "    return text.translate(str.maketrans(\"\",\"\",string.punctuation))\n",
        "\n",
        "data_cb['metadata'] = data_cb['metadata'].apply(remove_punctuation)\n",
        "\n",
        "data_cb.head()"
      ],
      "execution_count": null,
      "outputs": [
        {
          "output_type": "execute_result",
          "data": {
            "text/html": [
              "<div>\n",
              "<style scoped>\n",
              "    .dataframe tbody tr th:only-of-type {\n",
              "        vertical-align: middle;\n",
              "    }\n",
              "\n",
              "    .dataframe tbody tr th {\n",
              "        vertical-align: top;\n",
              "    }\n",
              "\n",
              "    .dataframe thead th {\n",
              "        text-align: right;\n",
              "    }\n",
              "</style>\n",
              "<table border=\"1\" class=\"dataframe\">\n",
              "  <thead>\n",
              "    <tr style=\"text-align: right;\">\n",
              "      <th></th>\n",
              "      <th>id_wisata</th>\n",
              "      <th>nama_wisata</th>\n",
              "      <th>kategori_wisata</th>\n",
              "      <th>alamat</th>\n",
              "      <th>metadata</th>\n",
              "    </tr>\n",
              "  </thead>\n",
              "  <tbody>\n",
              "    <tr>\n",
              "      <th>0</th>\n",
              "      <td>0</td>\n",
              "      <td>Masjid Islamic Center</td>\n",
              "      <td>Situs Suci &amp; Agama</td>\n",
              "      <td>Jl. Langko no. 5, Mataram, Lombok Indonesia</td>\n",
              "      <td>situs suci  agama jl langko no  mataram lombok...</td>\n",
              "    </tr>\n",
              "    <tr>\n",
              "      <th>1</th>\n",
              "      <td>1</td>\n",
              "      <td>Lombok Epicentrum</td>\n",
              "      <td>Tempat Belanja</td>\n",
              "      <td>Jl. Sriwijaya no. 333, Mataram, Lombok</td>\n",
              "      <td>tempat belanja jl sriwijaya no  mataram lombok</td>\n",
              "    </tr>\n",
              "    <tr>\n",
              "      <th>2</th>\n",
              "      <td>2</td>\n",
              "      <td>Hutan Sesaot</td>\n",
              "      <td>Area Wisata Alam &amp; Taman Margasatwa, Hutan</td>\n",
              "      <td>Batu Mekar, Lingsar, Kabupaten Lombok Barat, L...</td>\n",
              "      <td>area wisata alam  taman margasatwa hutan batu ...</td>\n",
              "    </tr>\n",
              "    <tr>\n",
              "      <th>3</th>\n",
              "      <td>3</td>\n",
              "      <td>Pura Agung Narmada</td>\n",
              "      <td>Taman</td>\n",
              "      <td>Lembuak, Narmada, Kabupaten Lombok Barat, Lombok</td>\n",
              "      <td>taman lembuak narmada kabupaten lombok barat l...</td>\n",
              "    </tr>\n",
              "    <tr>\n",
              "      <th>4</th>\n",
              "      <td>4</td>\n",
              "      <td>Pura Lingsar</td>\n",
              "      <td>Tempat Menarik &amp; Tengara</td>\n",
              "      <td>Jl. Raya Lingsar, Batu Kumbung, Lingsar, Kabup...</td>\n",
              "      <td>tempat menarik  tengara jl raya lingsar batu k...</td>\n",
              "    </tr>\n",
              "  </tbody>\n",
              "</table>\n",
              "</div>"
            ],
            "text/plain": [
              "   id_wisata  ...                                           metadata\n",
              "0          0  ...  situs suci  agama jl langko no  mataram lombok...\n",
              "1          1  ...     tempat belanja jl sriwijaya no  mataram lombok\n",
              "2          2  ...  area wisata alam  taman margasatwa hutan batu ...\n",
              "3          3  ...  taman lembuak narmada kabupaten lombok barat l...\n",
              "4          4  ...  tempat menarik  tengara jl raya lingsar batu k...\n",
              "\n",
              "[5 rows x 5 columns]"
            ]
          },
          "metadata": {
            "tags": []
          },
          "execution_count": 85
        }
      ]
    },
    {
      "cell_type": "code",
      "metadata": {
        "colab": {
          "base_uri": "https://localhost:8080/"
        },
        "id": "lOFNXAWG_Srj",
        "outputId": "b493b4ba-fed9-48c5-f194-dc3b243b6d26"
      },
      "source": [
        "from sklearn.feature_extraction.text import TfidfVectorizer\n",
        "from nltk.tokenize import word_tokenize\n",
        "from sklearn.metrics.pairwise import cosine_distances\n",
        "\n",
        "!pip install nltk\n",
        "import nltk\n",
        "nltk.download('punkt')\n",
        "\n",
        "class rec_cb:\n",
        "  def __init__(self, data, content_col):\n",
        "    self.df = data_cb\n",
        "    self.content_col = content_col\n",
        "    self.encoder = None\n",
        "    self.bank = None\n",
        "\n",
        "  def fit(self):\n",
        "    self.encoder = TfidfVectorizer(stop_words='english', tokenizer=word_tokenize)\n",
        "    self.bank = self.encoder.fit_transform(self.df[self.content_col])\n",
        "  \n",
        "  def recommend(self, idx, topk=10):\n",
        "    content = self.df.loc[idx, self.content_col]\n",
        "    code = self.encoder.transform([content])\n",
        "    dist = cosine_distances(code, self.bank)\n",
        "    rec_idx = dist.argsort() [0, 0:(topk+1)]\n",
        "    recom_cb = self.df.loc[rec_idx].nama_wisata\n",
        "    df_cosine = pd.DataFrame({'nama_wisata': recom_cb, 'idx' : rec_idx})\n",
        "    df_cosine['cosine_distance'] = dist[0,df_cosine.idx]\n",
        "    self.df['cosine_distance'] = df_cosine['cosine_distance']\n",
        "    return self.df.loc[self.df.cosine_distance<= 0.6]"
      ],
      "execution_count": null,
      "outputs": [
        {
          "output_type": "stream",
          "text": [
            "Requirement already satisfied: nltk in /usr/local/lib/python3.7/dist-packages (3.2.5)\n",
            "Requirement already satisfied: six in /usr/local/lib/python3.7/dist-packages (from nltk) (1.15.0)\n",
            "[nltk_data] Downloading package punkt to /root/nltk_data...\n",
            "[nltk_data]   Package punkt is already up-to-date!\n"
          ],
          "name": "stdout"
        }
      ]
    },
    {
      "cell_type": "code",
      "metadata": {
        "id": "XJvTqFcvAuv8"
      },
      "source": [
        "recomendasi_cb = rec_cb('data_cb', content_col = 'metadata')\n",
        "recomendasi_cb.fit()"
      ],
      "execution_count": null,
      "outputs": []
    },
    {
      "cell_type": "code",
      "metadata": {
        "colab": {
          "base_uri": "https://localhost:8080/",
          "height": 141
        },
        "id": "2sQWhWWdCMTc",
        "outputId": "5b0e91e9-a3fb-4a3f-ef44-12cc0fa3dd51"
      },
      "source": [
        "hasil_cb = recomendasi_cb.recommend(input_b)\n",
        "hasil_cb"
      ],
      "execution_count": null,
      "outputs": [
        {
          "output_type": "execute_result",
          "data": {
            "text/html": [
              "<div>\n",
              "<style scoped>\n",
              "    .dataframe tbody tr th:only-of-type {\n",
              "        vertical-align: middle;\n",
              "    }\n",
              "\n",
              "    .dataframe tbody tr th {\n",
              "        vertical-align: top;\n",
              "    }\n",
              "\n",
              "    .dataframe thead th {\n",
              "        text-align: right;\n",
              "    }\n",
              "</style>\n",
              "<table border=\"1\" class=\"dataframe\">\n",
              "  <thead>\n",
              "    <tr style=\"text-align: right;\">\n",
              "      <th></th>\n",
              "      <th>id_wisata</th>\n",
              "      <th>nama_wisata</th>\n",
              "      <th>kategori_wisata</th>\n",
              "      <th>alamat</th>\n",
              "      <th>metadata</th>\n",
              "      <th>cosine_distance</th>\n",
              "    </tr>\n",
              "  </thead>\n",
              "  <tbody>\n",
              "    <tr>\n",
              "      <th>0</th>\n",
              "      <td>0</td>\n",
              "      <td>Masjid Islamic Center</td>\n",
              "      <td>Situs Suci &amp; Agama</td>\n",
              "      <td>Jl. Langko no. 5, Mataram, Lombok Indonesia</td>\n",
              "      <td>situs suci  agama jl langko no  mataram lombok...</td>\n",
              "      <td>0.000000</td>\n",
              "    </tr>\n",
              "    <tr>\n",
              "      <th>11</th>\n",
              "      <td>11</td>\n",
              "      <td>Pura Batu Bolong</td>\n",
              "      <td>Situs Suci &amp; Agama</td>\n",
              "      <td>Jl. Raya Senggigi, Senggigi, Lombok</td>\n",
              "      <td>situs suci  agama jl raya senggigi senggigi lo...</td>\n",
              "      <td>0.548958</td>\n",
              "    </tr>\n",
              "    <tr>\n",
              "      <th>22</th>\n",
              "      <td>22</td>\n",
              "      <td>Desa Senaru</td>\n",
              "      <td>Tempat Menarik &amp; Tengara, Situs Suci &amp; Agama</td>\n",
              "      <td>Jl. Pariwisata, Bayan, Kabupaten Lombok Utara,...</td>\n",
              "      <td>tempat menarik  tengara situs suci  agama jl p...</td>\n",
              "      <td>0.570720</td>\n",
              "    </tr>\n",
              "  </tbody>\n",
              "</table>\n",
              "</div>"
            ],
            "text/plain": [
              "    id_wisata  ... cosine_distance\n",
              "0           0  ...        0.000000\n",
              "11         11  ...        0.548958\n",
              "22         22  ...        0.570720\n",
              "\n",
              "[3 rows x 6 columns]"
            ]
          },
          "metadata": {
            "tags": []
          },
          "execution_count": 88
        }
      ]
    },
    {
      "cell_type": "code",
      "metadata": {
        "colab": {
          "base_uri": "https://localhost:8080/"
        },
        "id": "VDw7s18Bl-CP",
        "outputId": "72e14f80-59cd-4015-890d-98c7e5868a13"
      },
      "source": [
        "rec = hasil_cb.nama_wisata\n",
        "rec"
      ],
      "execution_count": null,
      "outputs": [
        {
          "output_type": "execute_result",
          "data": {
            "text/plain": [
              "0     Masjid Islamic Center\n",
              "11         Pura Batu Bolong\n",
              "22              Desa Senaru\n",
              "Name: nama_wisata, dtype: object"
            ]
          },
          "metadata": {
            "tags": []
          },
          "execution_count": 89
        }
      ]
    },
    {
      "cell_type": "code",
      "metadata": {
        "id": "bx6HkL46QY5e",
        "colab": {
          "base_uri": "https://localhost:8080/",
          "height": 414
        },
        "outputId": "53f7e53f-d0ae-4677-a6f5-5066af61e3b2"
      },
      "source": [
        "df_cb_pred = pd.read_excel(data2)\n",
        "df_cb_pred"
      ],
      "execution_count": null,
      "outputs": [
        {
          "output_type": "execute_result",
          "data": {
            "text/html": [
              "<div>\n",
              "<style scoped>\n",
              "    .dataframe tbody tr th:only-of-type {\n",
              "        vertical-align: middle;\n",
              "    }\n",
              "\n",
              "    .dataframe tbody tr th {\n",
              "        vertical-align: top;\n",
              "    }\n",
              "\n",
              "    .dataframe thead th {\n",
              "        text-align: right;\n",
              "    }\n",
              "</style>\n",
              "<table border=\"1\" class=\"dataframe\">\n",
              "  <thead>\n",
              "    <tr style=\"text-align: right;\">\n",
              "      <th></th>\n",
              "      <th>id_pengguna</th>\n",
              "      <th>nama_pengguna</th>\n",
              "      <th>id_wisata</th>\n",
              "      <th>nama_wisata</th>\n",
              "      <th>rating</th>\n",
              "    </tr>\n",
              "  </thead>\n",
              "  <tbody>\n",
              "    <tr>\n",
              "      <th>0</th>\n",
              "      <td>0</td>\n",
              "      <td>Supardi</td>\n",
              "      <td>0</td>\n",
              "      <td>Masjid Islamic Center</td>\n",
              "      <td>5</td>\n",
              "    </tr>\n",
              "    <tr>\n",
              "      <th>1</th>\n",
              "      <td>1</td>\n",
              "      <td>DEUTZ18</td>\n",
              "      <td>0</td>\n",
              "      <td>Masjid Islamic Center</td>\n",
              "      <td>5</td>\n",
              "    </tr>\n",
              "    <tr>\n",
              "      <th>2</th>\n",
              "      <td>2</td>\n",
              "      <td>Kanz The Traveller</td>\n",
              "      <td>0</td>\n",
              "      <td>Masjid Islamic Center</td>\n",
              "      <td>5</td>\n",
              "    </tr>\n",
              "    <tr>\n",
              "      <th>3</th>\n",
              "      <td>3</td>\n",
              "      <td>tholibkhair</td>\n",
              "      <td>0</td>\n",
              "      <td>Masjid Islamic Center</td>\n",
              "      <td>5</td>\n",
              "    </tr>\n",
              "    <tr>\n",
              "      <th>4</th>\n",
              "      <td>4</td>\n",
              "      <td>Kiki Wiryono</td>\n",
              "      <td>0</td>\n",
              "      <td>Masjid Islamic Center</td>\n",
              "      <td>4</td>\n",
              "    </tr>\n",
              "    <tr>\n",
              "      <th>...</th>\n",
              "      <td>...</td>\n",
              "      <td>...</td>\n",
              "      <td>...</td>\n",
              "      <td>...</td>\n",
              "      <td>...</td>\n",
              "    </tr>\n",
              "    <tr>\n",
              "      <th>5689</th>\n",
              "      <td>253</td>\n",
              "      <td>rizal993</td>\n",
              "      <td>74</td>\n",
              "      <td>Pantai Ketapang</td>\n",
              "      <td>5</td>\n",
              "    </tr>\n",
              "    <tr>\n",
              "      <th>5690</th>\n",
              "      <td>289</td>\n",
              "      <td>tjutjukbs</td>\n",
              "      <td>74</td>\n",
              "      <td>Pantai Ketapang</td>\n",
              "      <td>4</td>\n",
              "    </tr>\n",
              "    <tr>\n",
              "      <th>5691</th>\n",
              "      <td>3637</td>\n",
              "      <td>Rita O</td>\n",
              "      <td>74</td>\n",
              "      <td>Pantai Ketapang</td>\n",
              "      <td>4</td>\n",
              "    </tr>\n",
              "    <tr>\n",
              "      <th>5692</th>\n",
              "      <td>3638</td>\n",
              "      <td>Shelin</td>\n",
              "      <td>75</td>\n",
              "      <td>Pantai Are Guling</td>\n",
              "      <td>5</td>\n",
              "    </tr>\n",
              "    <tr>\n",
              "      <th>5693</th>\n",
              "      <td>1220</td>\n",
              "      <td>Senggigiocean Surfschool</td>\n",
              "      <td>76</td>\n",
              "      <td>Pantai Bangko-Bangko</td>\n",
              "      <td>5</td>\n",
              "    </tr>\n",
              "  </tbody>\n",
              "</table>\n",
              "<p>5694 rows × 5 columns</p>\n",
              "</div>"
            ],
            "text/plain": [
              "      id_pengguna             nama_pengguna  ...            nama_wisata rating\n",
              "0               0                   Supardi  ...  Masjid Islamic Center      5\n",
              "1               1                   DEUTZ18  ...  Masjid Islamic Center      5\n",
              "2               2        Kanz The Traveller  ...  Masjid Islamic Center      5\n",
              "3               3               tholibkhair  ...  Masjid Islamic Center      5\n",
              "4               4              Kiki Wiryono  ...  Masjid Islamic Center      4\n",
              "...           ...                       ...  ...                    ...    ...\n",
              "5689          253                  rizal993  ...        Pantai Ketapang      5\n",
              "5690          289                 tjutjukbs  ...        Pantai Ketapang      4\n",
              "5691         3637                    Rita O  ...        Pantai Ketapang      4\n",
              "5692         3638                    Shelin  ...      Pantai Are Guling      5\n",
              "5693         1220  Senggigiocean Surfschool  ...   Pantai Bangko-Bangko      5\n",
              "\n",
              "[5694 rows x 5 columns]"
            ]
          },
          "metadata": {
            "tags": []
          },
          "execution_count": 90
        }
      ]
    },
    {
      "cell_type": "code",
      "metadata": {
        "colab": {
          "base_uri": "https://localhost:8080/",
          "height": 78
        },
        "id": "ZtU1fmHJkJx2",
        "outputId": "12db53c8-1ecd-4f4a-ed7e-175db91e9b39"
      },
      "source": [
        "df_pengguna = df_cb_pred[(df_cb_pred['id_pengguna'] == 0)]\n",
        "df_pengguna"
      ],
      "execution_count": null,
      "outputs": [
        {
          "output_type": "execute_result",
          "data": {
            "text/html": [
              "<div>\n",
              "<style scoped>\n",
              "    .dataframe tbody tr th:only-of-type {\n",
              "        vertical-align: middle;\n",
              "    }\n",
              "\n",
              "    .dataframe tbody tr th {\n",
              "        vertical-align: top;\n",
              "    }\n",
              "\n",
              "    .dataframe thead th {\n",
              "        text-align: right;\n",
              "    }\n",
              "</style>\n",
              "<table border=\"1\" class=\"dataframe\">\n",
              "  <thead>\n",
              "    <tr style=\"text-align: right;\">\n",
              "      <th></th>\n",
              "      <th>id_pengguna</th>\n",
              "      <th>nama_pengguna</th>\n",
              "      <th>id_wisata</th>\n",
              "      <th>nama_wisata</th>\n",
              "      <th>rating</th>\n",
              "    </tr>\n",
              "  </thead>\n",
              "  <tbody>\n",
              "    <tr>\n",
              "      <th>0</th>\n",
              "      <td>0</td>\n",
              "      <td>Supardi</td>\n",
              "      <td>0</td>\n",
              "      <td>Masjid Islamic Center</td>\n",
              "      <td>5</td>\n",
              "    </tr>\n",
              "  </tbody>\n",
              "</table>\n",
              "</div>"
            ],
            "text/plain": [
              "   id_pengguna nama_pengguna  id_wisata            nama_wisata  rating\n",
              "0            0       Supardi          0  Masjid Islamic Center       5"
            ]
          },
          "metadata": {
            "tags": []
          },
          "execution_count": 91
        }
      ]
    },
    {
      "cell_type": "code",
      "metadata": {
        "colab": {
          "base_uri": "https://localhost:8080/",
          "height": 78
        },
        "id": "sfoQPh-RkMt2",
        "outputId": "10d0d3d1-e114-4902-811f-e0389207eb5f"
      },
      "source": [
        "df_cf_baru2 = pd.DataFrame({\n",
        "    'id_pengguna' : df_pengguna[\"id_pengguna\"],\n",
        "    'nama_wisata' : df_pengguna[\"nama_wisata\"],\n",
        "    'rating' : df_pengguna[\"rating\"]\n",
        "})\n",
        "df_cf_baru2"
      ],
      "execution_count": null,
      "outputs": [
        {
          "output_type": "execute_result",
          "data": {
            "text/html": [
              "<div>\n",
              "<style scoped>\n",
              "    .dataframe tbody tr th:only-of-type {\n",
              "        vertical-align: middle;\n",
              "    }\n",
              "\n",
              "    .dataframe tbody tr th {\n",
              "        vertical-align: top;\n",
              "    }\n",
              "\n",
              "    .dataframe thead th {\n",
              "        text-align: right;\n",
              "    }\n",
              "</style>\n",
              "<table border=\"1\" class=\"dataframe\">\n",
              "  <thead>\n",
              "    <tr style=\"text-align: right;\">\n",
              "      <th></th>\n",
              "      <th>id_pengguna</th>\n",
              "      <th>nama_wisata</th>\n",
              "      <th>rating</th>\n",
              "    </tr>\n",
              "  </thead>\n",
              "  <tbody>\n",
              "    <tr>\n",
              "      <th>0</th>\n",
              "      <td>0</td>\n",
              "      <td>Masjid Islamic Center</td>\n",
              "      <td>5</td>\n",
              "    </tr>\n",
              "  </tbody>\n",
              "</table>\n",
              "</div>"
            ],
            "text/plain": [
              "   id_pengguna            nama_wisata  rating\n",
              "0            0  Masjid Islamic Center       5"
            ]
          },
          "metadata": {
            "tags": []
          },
          "execution_count": 92
        }
      ]
    },
    {
      "cell_type": "code",
      "metadata": {
        "id": "_-AFZS3Rk7qj"
      },
      "source": [
        "id_pengguna = input_a"
      ],
      "execution_count": null,
      "outputs": []
    },
    {
      "cell_type": "code",
      "metadata": {
        "id": "MjH6TPTmBIOs",
        "colab": {
          "base_uri": "https://localhost:8080/"
        },
        "outputId": "b0788bea-215f-42cf-f950-c425cce2f5a9"
      },
      "source": [
        "!pip install scikit-surprise\n",
        "from surprise import SVD, Dataset, Reader\n",
        "from surprise.model_selection import cross_validate"
      ],
      "execution_count": null,
      "outputs": [
        {
          "output_type": "stream",
          "text": [
            "Requirement already satisfied: scikit-surprise in /usr/local/lib/python3.7/dist-packages (1.1.1)\n",
            "Requirement already satisfied: joblib>=0.11 in /usr/local/lib/python3.7/dist-packages (from scikit-surprise) (1.0.1)\n",
            "Requirement already satisfied: numpy>=1.11.2 in /usr/local/lib/python3.7/dist-packages (from scikit-surprise) (1.19.5)\n",
            "Requirement already satisfied: six>=1.10.0 in /usr/local/lib/python3.7/dist-packages (from scikit-surprise) (1.15.0)\n",
            "Requirement already satisfied: scipy>=1.0.0 in /usr/local/lib/python3.7/dist-packages (from scikit-surprise) (1.4.1)\n"
          ],
          "name": "stdout"
        }
      ]
    },
    {
      "cell_type": "code",
      "metadata": {
        "id": "NhTwSRcEQccK"
      },
      "source": [
        "data_pred = Dataset.load_from_df(df_cf_baru2, Reader())\n",
        "trainset2 = data_pred.build_full_trainset()"
      ],
      "execution_count": null,
      "outputs": []
    },
    {
      "cell_type": "code",
      "metadata": {
        "colab": {
          "base_uri": "https://localhost:8080/"
        },
        "id": "1ze3k0SAQfPK",
        "outputId": "d0b14172-6cec-419f-8760-1ee00d238a4c"
      },
      "source": [
        "model2 = SVD()\n",
        "model2.fit(trainset2)"
      ],
      "execution_count": null,
      "outputs": [
        {
          "output_type": "execute_result",
          "data": {
            "text/plain": [
              "<surprise.prediction_algorithms.matrix_factorization.SVD at 0x7fb640bf4f50>"
            ]
          },
          "metadata": {
            "tags": []
          },
          "execution_count": 96
        }
      ]
    },
    {
      "cell_type": "code",
      "metadata": {
        "id": "2eC5SXlkQiip"
      },
      "source": [
        "rating_prediction_cb = [model2.predict(id_pengguna, nama_wisata).est for nama_wisata in rec]\n",
        "df_prediksi = pd.DataFrame()\n",
        "df_prediksi['nama_wisata'] = hasil_cb.nama_wisata\n",
        "df_prediksi['cosine_distance'] = hasil_cb['cosine_distance']\n",
        "df_prediksi['prediksi_rating_cb'] = rating_prediction_cb"
      ],
      "execution_count": null,
      "outputs": []
    },
    {
      "cell_type": "markdown",
      "metadata": {
        "id": "A7W49-HCDvz0"
      },
      "source": [
        "**Collaborative Filtering**"
      ]
    },
    {
      "cell_type": "code",
      "metadata": {
        "id": "K9ZF7tUHDvTF",
        "colab": {
          "base_uri": "https://localhost:8080/",
          "height": 202
        },
        "outputId": "98811f32-df58-4051-d345-f4841a90d9bd"
      },
      "source": [
        "#data2\n",
        "data2 = pd.read_excel(data2)\n",
        "data2.head()"
      ],
      "execution_count": null,
      "outputs": [
        {
          "output_type": "execute_result",
          "data": {
            "text/html": [
              "<div>\n",
              "<style scoped>\n",
              "    .dataframe tbody tr th:only-of-type {\n",
              "        vertical-align: middle;\n",
              "    }\n",
              "\n",
              "    .dataframe tbody tr th {\n",
              "        vertical-align: top;\n",
              "    }\n",
              "\n",
              "    .dataframe thead th {\n",
              "        text-align: right;\n",
              "    }\n",
              "</style>\n",
              "<table border=\"1\" class=\"dataframe\">\n",
              "  <thead>\n",
              "    <tr style=\"text-align: right;\">\n",
              "      <th></th>\n",
              "      <th>id_pengguna</th>\n",
              "      <th>nama_pengguna</th>\n",
              "      <th>id_wisata</th>\n",
              "      <th>nama_wisata</th>\n",
              "      <th>rating</th>\n",
              "    </tr>\n",
              "  </thead>\n",
              "  <tbody>\n",
              "    <tr>\n",
              "      <th>0</th>\n",
              "      <td>0</td>\n",
              "      <td>Supardi</td>\n",
              "      <td>0</td>\n",
              "      <td>Masjid Islamic Center</td>\n",
              "      <td>5</td>\n",
              "    </tr>\n",
              "    <tr>\n",
              "      <th>1</th>\n",
              "      <td>1</td>\n",
              "      <td>DEUTZ18</td>\n",
              "      <td>0</td>\n",
              "      <td>Masjid Islamic Center</td>\n",
              "      <td>5</td>\n",
              "    </tr>\n",
              "    <tr>\n",
              "      <th>2</th>\n",
              "      <td>2</td>\n",
              "      <td>Kanz The Traveller</td>\n",
              "      <td>0</td>\n",
              "      <td>Masjid Islamic Center</td>\n",
              "      <td>5</td>\n",
              "    </tr>\n",
              "    <tr>\n",
              "      <th>3</th>\n",
              "      <td>3</td>\n",
              "      <td>tholibkhair</td>\n",
              "      <td>0</td>\n",
              "      <td>Masjid Islamic Center</td>\n",
              "      <td>5</td>\n",
              "    </tr>\n",
              "    <tr>\n",
              "      <th>4</th>\n",
              "      <td>4</td>\n",
              "      <td>Kiki Wiryono</td>\n",
              "      <td>0</td>\n",
              "      <td>Masjid Islamic Center</td>\n",
              "      <td>4</td>\n",
              "    </tr>\n",
              "  </tbody>\n",
              "</table>\n",
              "</div>"
            ],
            "text/plain": [
              "   id_pengguna       nama_pengguna  id_wisata            nama_wisata  rating\n",
              "0            0             Supardi          0  Masjid Islamic Center       5\n",
              "1            1             DEUTZ18          0  Masjid Islamic Center       5\n",
              "2            2  Kanz The Traveller          0  Masjid Islamic Center       5\n",
              "3            3         tholibkhair          0  Masjid Islamic Center       5\n",
              "4            4        Kiki Wiryono          0  Masjid Islamic Center       4"
            ]
          },
          "metadata": {
            "tags": []
          },
          "execution_count": 98
        }
      ]
    },
    {
      "cell_type": "code",
      "metadata": {
        "id": "-78hS0dfEHWw",
        "colab": {
          "base_uri": "https://localhost:8080/",
          "height": 202
        },
        "outputId": "d004feeb-199b-4294-ecf2-1b341eb4a91b"
      },
      "source": [
        "#Preprocessing\n",
        "\n",
        "#1. Pilih Fitur yang dibutuhkan\n",
        "df_cf = pd.DataFrame({\n",
        "    'id_pengguna' : data2[\"id_pengguna\"],\n",
        "    'nama_wisata' : data2[\"nama_wisata\"],\n",
        "    'rating' : data2[\"rating\"]\n",
        "})\n",
        "df_cf.head()"
      ],
      "execution_count": null,
      "outputs": [
        {
          "output_type": "execute_result",
          "data": {
            "text/html": [
              "<div>\n",
              "<style scoped>\n",
              "    .dataframe tbody tr th:only-of-type {\n",
              "        vertical-align: middle;\n",
              "    }\n",
              "\n",
              "    .dataframe tbody tr th {\n",
              "        vertical-align: top;\n",
              "    }\n",
              "\n",
              "    .dataframe thead th {\n",
              "        text-align: right;\n",
              "    }\n",
              "</style>\n",
              "<table border=\"1\" class=\"dataframe\">\n",
              "  <thead>\n",
              "    <tr style=\"text-align: right;\">\n",
              "      <th></th>\n",
              "      <th>id_pengguna</th>\n",
              "      <th>nama_wisata</th>\n",
              "      <th>rating</th>\n",
              "    </tr>\n",
              "  </thead>\n",
              "  <tbody>\n",
              "    <tr>\n",
              "      <th>0</th>\n",
              "      <td>0</td>\n",
              "      <td>Masjid Islamic Center</td>\n",
              "      <td>5</td>\n",
              "    </tr>\n",
              "    <tr>\n",
              "      <th>1</th>\n",
              "      <td>1</td>\n",
              "      <td>Masjid Islamic Center</td>\n",
              "      <td>5</td>\n",
              "    </tr>\n",
              "    <tr>\n",
              "      <th>2</th>\n",
              "      <td>2</td>\n",
              "      <td>Masjid Islamic Center</td>\n",
              "      <td>5</td>\n",
              "    </tr>\n",
              "    <tr>\n",
              "      <th>3</th>\n",
              "      <td>3</td>\n",
              "      <td>Masjid Islamic Center</td>\n",
              "      <td>5</td>\n",
              "    </tr>\n",
              "    <tr>\n",
              "      <th>4</th>\n",
              "      <td>4</td>\n",
              "      <td>Masjid Islamic Center</td>\n",
              "      <td>4</td>\n",
              "    </tr>\n",
              "  </tbody>\n",
              "</table>\n",
              "</div>"
            ],
            "text/plain": [
              "   id_pengguna            nama_wisata  rating\n",
              "0            0  Masjid Islamic Center       5\n",
              "1            1  Masjid Islamic Center       5\n",
              "2            2  Masjid Islamic Center       5\n",
              "3            3  Masjid Islamic Center       5\n",
              "4            4  Masjid Islamic Center       4"
            ]
          },
          "metadata": {
            "tags": []
          },
          "execution_count": 99
        }
      ]
    },
    {
      "cell_type": "code",
      "metadata": {
        "id": "aWA1eS2DElTN",
        "colab": {
          "base_uri": "https://localhost:8080/"
        },
        "outputId": "44291ce4-217d-4a3e-ad2f-f2f2a302cba9"
      },
      "source": [
        "#Preprocessing\n",
        "\n",
        "#2. check missing value\n",
        "df_cf.isna().sum()"
      ],
      "execution_count": null,
      "outputs": [
        {
          "output_type": "execute_result",
          "data": {
            "text/plain": [
              "id_pengguna    0\n",
              "nama_wisata    0\n",
              "rating         0\n",
              "dtype: int64"
            ]
          },
          "metadata": {
            "tags": []
          },
          "execution_count": 100
        }
      ]
    },
    {
      "cell_type": "code",
      "metadata": {
        "id": "Ny7egxgGExEL",
        "colab": {
          "base_uri": "https://localhost:8080/"
        },
        "outputId": "1185c336-771c-4639-adf3-b0d2ac9f9836"
      },
      "source": [
        "!pip install scikit-surprise\n",
        "from surprise import SVD, Dataset, Reader\n",
        "from surprise.model_selection import cross_validate\n",
        "\n",
        "class rec_cf:\n",
        "  def __init__(self, data):\n",
        "    self.df = df_cf\n",
        "    self.all_destinations = self.df.nama_wisata.unique()\n",
        "    self.model = None\n",
        "  \n",
        "  def fit(self):\n",
        "    data = Dataset.load_from_df(df_cf, Reader())\n",
        "    trainset = data.build_full_trainset()\n",
        "    self.model = SVD()\n",
        "    self.model.fit(trainset)\n",
        "\n",
        "  def recommend(self, id_pengguna, topk = 77):\n",
        "    rated = self.df[self.df.id_pengguna == id_pengguna].nama_wisata\n",
        "    not_rated = [nama_wisata for nama_wisata in self.all_destinations if nama_wisata not in rated]\n",
        "    score = [self.model.predict(id_pengguna, nama_wisata).est for nama_wisata in not_rated]\n",
        "    result = pd.DataFrame({'nama_wisata': not_rated, 'prediksi_rating_cf' : score})\n",
        "    return result.head(topk)"
      ],
      "execution_count": null,
      "outputs": [
        {
          "output_type": "stream",
          "text": [
            "Requirement already satisfied: scikit-surprise in /usr/local/lib/python3.7/dist-packages (1.1.1)\n",
            "Requirement already satisfied: scipy>=1.0.0 in /usr/local/lib/python3.7/dist-packages (from scikit-surprise) (1.4.1)\n",
            "Requirement already satisfied: numpy>=1.11.2 in /usr/local/lib/python3.7/dist-packages (from scikit-surprise) (1.19.5)\n",
            "Requirement already satisfied: joblib>=0.11 in /usr/local/lib/python3.7/dist-packages (from scikit-surprise) (1.0.1)\n",
            "Requirement already satisfied: six>=1.10.0 in /usr/local/lib/python3.7/dist-packages (from scikit-surprise) (1.15.0)\n"
          ],
          "name": "stdout"
        }
      ]
    },
    {
      "cell_type": "code",
      "metadata": {
        "id": "M850hRuTFHEa"
      },
      "source": [
        "rekomendasi_cf = rec_cf('data_cf')\n",
        "rekomendasi_cf.fit()"
      ],
      "execution_count": null,
      "outputs": []
    },
    {
      "cell_type": "code",
      "metadata": {
        "id": "FBmnek4dIiJ-"
      },
      "source": [
        "df_prediksi2 = rekomendasi_cf.recommend(id_pengguna=input_a)"
      ],
      "execution_count": null,
      "outputs": []
    },
    {
      "cell_type": "markdown",
      "metadata": {
        "id": "QNo5oeIKKUCC"
      },
      "source": [
        "**Hybrid Method**"
      ]
    },
    {
      "cell_type": "code",
      "metadata": {
        "colab": {
          "base_uri": "https://localhost:8080/",
          "height": 141
        },
        "id": "FR2D7rB-nG0Q",
        "outputId": "455ca698-4787-4661-e7ef-efeb1766e5a5"
      },
      "source": [
        "#preprocessing\n",
        "\n",
        "#feature merge\n",
        "data_hybrid = pd.merge(df_prediksi.sort_values(['nama_wisata'], ascending=[True]), df_prediksi2.sort_values(['nama_wisata'], ascending=[True]))\n",
        "data_hybrid"
      ],
      "execution_count": null,
      "outputs": [
        {
          "output_type": "execute_result",
          "data": {
            "text/html": [
              "<div>\n",
              "<style scoped>\n",
              "    .dataframe tbody tr th:only-of-type {\n",
              "        vertical-align: middle;\n",
              "    }\n",
              "\n",
              "    .dataframe tbody tr th {\n",
              "        vertical-align: top;\n",
              "    }\n",
              "\n",
              "    .dataframe thead th {\n",
              "        text-align: right;\n",
              "    }\n",
              "</style>\n",
              "<table border=\"1\" class=\"dataframe\">\n",
              "  <thead>\n",
              "    <tr style=\"text-align: right;\">\n",
              "      <th></th>\n",
              "      <th>nama_wisata</th>\n",
              "      <th>cosine_distance</th>\n",
              "      <th>prediksi_rating_cb</th>\n",
              "      <th>prediksi_rating_cf</th>\n",
              "    </tr>\n",
              "  </thead>\n",
              "  <tbody>\n",
              "    <tr>\n",
              "      <th>0</th>\n",
              "      <td>Desa Senaru</td>\n",
              "      <td>0.570720</td>\n",
              "      <td>5</td>\n",
              "      <td>4.471512</td>\n",
              "    </tr>\n",
              "    <tr>\n",
              "      <th>1</th>\n",
              "      <td>Masjid Islamic Center</td>\n",
              "      <td>0.000000</td>\n",
              "      <td>5</td>\n",
              "      <td>4.752971</td>\n",
              "    </tr>\n",
              "    <tr>\n",
              "      <th>2</th>\n",
              "      <td>Pura Batu Bolong</td>\n",
              "      <td>0.548958</td>\n",
              "      <td>5</td>\n",
              "      <td>4.160988</td>\n",
              "    </tr>\n",
              "  </tbody>\n",
              "</table>\n",
              "</div>"
            ],
            "text/plain": [
              "             nama_wisata  ...  prediksi_rating_cf\n",
              "0            Desa Senaru  ...            4.471512\n",
              "1  Masjid Islamic Center  ...            4.752971\n",
              "2       Pura Batu Bolong  ...            4.160988\n",
              "\n",
              "[3 rows x 4 columns]"
            ]
          },
          "metadata": {
            "tags": []
          },
          "execution_count": 104
        }
      ]
    },
    {
      "cell_type": "code",
      "metadata": {
        "id": "QpYbpIj12dQT"
      },
      "source": [
        "def recommend(data):\n",
        "  data['prediksi_rating_hybrid'] = (0.5 * data.prediksi_rating_cf) + (0.5 * data.prediksi_rating_cb)\n",
        "  result = data.sort_values(['prediksi_rating_hybrid'], ascending=[False])\n",
        "  return result"
      ],
      "execution_count": null,
      "outputs": []
    },
    {
      "cell_type": "markdown",
      "metadata": {
        "id": "z2amxI_c7ATv"
      },
      "source": [
        "**Hasil Rekomendasi**"
      ]
    },
    {
      "cell_type": "code",
      "metadata": {
        "colab": {
          "base_uri": "https://localhost:8080/",
          "height": 141
        },
        "id": "K2YlgLpa7O9Q",
        "outputId": "f99a06bc-a3a5-4d2e-d2d0-654db1d5f489"
      },
      "source": [
        "#rekomendasi content-based filtering\n",
        "df_prediksi"
      ],
      "execution_count": null,
      "outputs": [
        {
          "output_type": "execute_result",
          "data": {
            "text/html": [
              "<div>\n",
              "<style scoped>\n",
              "    .dataframe tbody tr th:only-of-type {\n",
              "        vertical-align: middle;\n",
              "    }\n",
              "\n",
              "    .dataframe tbody tr th {\n",
              "        vertical-align: top;\n",
              "    }\n",
              "\n",
              "    .dataframe thead th {\n",
              "        text-align: right;\n",
              "    }\n",
              "</style>\n",
              "<table border=\"1\" class=\"dataframe\">\n",
              "  <thead>\n",
              "    <tr style=\"text-align: right;\">\n",
              "      <th></th>\n",
              "      <th>nama_wisata</th>\n",
              "      <th>cosine_distance</th>\n",
              "      <th>prediksi_rating_cb</th>\n",
              "    </tr>\n",
              "  </thead>\n",
              "  <tbody>\n",
              "    <tr>\n",
              "      <th>0</th>\n",
              "      <td>Masjid Islamic Center</td>\n",
              "      <td>0.000000</td>\n",
              "      <td>5</td>\n",
              "    </tr>\n",
              "    <tr>\n",
              "      <th>11</th>\n",
              "      <td>Pura Batu Bolong</td>\n",
              "      <td>0.548958</td>\n",
              "      <td>5</td>\n",
              "    </tr>\n",
              "    <tr>\n",
              "      <th>22</th>\n",
              "      <td>Desa Senaru</td>\n",
              "      <td>0.570720</td>\n",
              "      <td>5</td>\n",
              "    </tr>\n",
              "  </tbody>\n",
              "</table>\n",
              "</div>"
            ],
            "text/plain": [
              "              nama_wisata  cosine_distance  prediksi_rating_cb\n",
              "0   Masjid Islamic Center         0.000000                   5\n",
              "11       Pura Batu Bolong         0.548958                   5\n",
              "22            Desa Senaru         0.570720                   5"
            ]
          },
          "metadata": {
            "tags": []
          },
          "execution_count": 106
        }
      ]
    },
    {
      "cell_type": "code",
      "metadata": {
        "colab": {
          "base_uri": "https://localhost:8080/",
          "height": 414
        },
        "id": "5ilY0T3w7O_n",
        "outputId": "0b4a769a-ebf3-4c57-9594-55e39a8dc1be"
      },
      "source": [
        "#rekomendasi collaborative filtering\n",
        "df_prediksi2"
      ],
      "execution_count": null,
      "outputs": [
        {
          "output_type": "execute_result",
          "data": {
            "text/html": [
              "<div>\n",
              "<style scoped>\n",
              "    .dataframe tbody tr th:only-of-type {\n",
              "        vertical-align: middle;\n",
              "    }\n",
              "\n",
              "    .dataframe tbody tr th {\n",
              "        vertical-align: top;\n",
              "    }\n",
              "\n",
              "    .dataframe thead th {\n",
              "        text-align: right;\n",
              "    }\n",
              "</style>\n",
              "<table border=\"1\" class=\"dataframe\">\n",
              "  <thead>\n",
              "    <tr style=\"text-align: right;\">\n",
              "      <th></th>\n",
              "      <th>nama_wisata</th>\n",
              "      <th>prediksi_rating_cf</th>\n",
              "    </tr>\n",
              "  </thead>\n",
              "  <tbody>\n",
              "    <tr>\n",
              "      <th>0</th>\n",
              "      <td>Masjid Islamic Center</td>\n",
              "      <td>4.752971</td>\n",
              "    </tr>\n",
              "    <tr>\n",
              "      <th>1</th>\n",
              "      <td>Lombok Epicentrum</td>\n",
              "      <td>4.352610</td>\n",
              "    </tr>\n",
              "    <tr>\n",
              "      <th>2</th>\n",
              "      <td>Hutan Sesaot</td>\n",
              "      <td>4.593304</td>\n",
              "    </tr>\n",
              "    <tr>\n",
              "      <th>3</th>\n",
              "      <td>Pura Agung Narmada</td>\n",
              "      <td>3.632915</td>\n",
              "    </tr>\n",
              "    <tr>\n",
              "      <th>4</th>\n",
              "      <td>Pura Lingsar</td>\n",
              "      <td>3.764422</td>\n",
              "    </tr>\n",
              "    <tr>\n",
              "      <th>...</th>\n",
              "      <td>...</td>\n",
              "      <td>...</td>\n",
              "    </tr>\n",
              "    <tr>\n",
              "      <th>72</th>\n",
              "      <td>Pantai Induk</td>\n",
              "      <td>4.435672</td>\n",
              "    </tr>\n",
              "    <tr>\n",
              "      <th>73</th>\n",
              "      <td>Pantai Gondang</td>\n",
              "      <td>4.457341</td>\n",
              "    </tr>\n",
              "    <tr>\n",
              "      <th>74</th>\n",
              "      <td>Pantai Ketapang</td>\n",
              "      <td>4.293717</td>\n",
              "    </tr>\n",
              "    <tr>\n",
              "      <th>75</th>\n",
              "      <td>Pantai Are Guling</td>\n",
              "      <td>4.418471</td>\n",
              "    </tr>\n",
              "    <tr>\n",
              "      <th>76</th>\n",
              "      <td>Pantai Bangko-Bangko</td>\n",
              "      <td>4.345185</td>\n",
              "    </tr>\n",
              "  </tbody>\n",
              "</table>\n",
              "<p>77 rows × 2 columns</p>\n",
              "</div>"
            ],
            "text/plain": [
              "              nama_wisata  prediksi_rating_cf\n",
              "0   Masjid Islamic Center            4.752971\n",
              "1       Lombok Epicentrum            4.352610\n",
              "2            Hutan Sesaot            4.593304\n",
              "3      Pura Agung Narmada            3.632915\n",
              "4            Pura Lingsar            3.764422\n",
              "..                    ...                 ...\n",
              "72           Pantai Induk            4.435672\n",
              "73         Pantai Gondang            4.457341\n",
              "74        Pantai Ketapang            4.293717\n",
              "75      Pantai Are Guling            4.418471\n",
              "76   Pantai Bangko-Bangko            4.345185\n",
              "\n",
              "[77 rows x 2 columns]"
            ]
          },
          "metadata": {
            "tags": []
          },
          "execution_count": 107
        }
      ]
    },
    {
      "cell_type": "code",
      "metadata": {
        "colab": {
          "base_uri": "https://localhost:8080/",
          "height": 141
        },
        "id": "ZvNi4FCl60UF",
        "outputId": "d6659930-0d12-48a3-a354-da86590a7274"
      },
      "source": [
        "#rekomendasi hybrid (teknik pembobotan)\n",
        "recommend(data_hybrid)"
      ],
      "execution_count": null,
      "outputs": [
        {
          "output_type": "execute_result",
          "data": {
            "text/html": [
              "<div>\n",
              "<style scoped>\n",
              "    .dataframe tbody tr th:only-of-type {\n",
              "        vertical-align: middle;\n",
              "    }\n",
              "\n",
              "    .dataframe tbody tr th {\n",
              "        vertical-align: top;\n",
              "    }\n",
              "\n",
              "    .dataframe thead th {\n",
              "        text-align: right;\n",
              "    }\n",
              "</style>\n",
              "<table border=\"1\" class=\"dataframe\">\n",
              "  <thead>\n",
              "    <tr style=\"text-align: right;\">\n",
              "      <th></th>\n",
              "      <th>nama_wisata</th>\n",
              "      <th>cosine_distance</th>\n",
              "      <th>prediksi_rating_cb</th>\n",
              "      <th>prediksi_rating_cf</th>\n",
              "      <th>prediksi_rating_hybrid</th>\n",
              "    </tr>\n",
              "  </thead>\n",
              "  <tbody>\n",
              "    <tr>\n",
              "      <th>1</th>\n",
              "      <td>Masjid Islamic Center</td>\n",
              "      <td>0.000000</td>\n",
              "      <td>5</td>\n",
              "      <td>4.752971</td>\n",
              "      <td>4.876486</td>\n",
              "    </tr>\n",
              "    <tr>\n",
              "      <th>0</th>\n",
              "      <td>Desa Senaru</td>\n",
              "      <td>0.570720</td>\n",
              "      <td>5</td>\n",
              "      <td>4.471512</td>\n",
              "      <td>4.735756</td>\n",
              "    </tr>\n",
              "    <tr>\n",
              "      <th>2</th>\n",
              "      <td>Pura Batu Bolong</td>\n",
              "      <td>0.548958</td>\n",
              "      <td>5</td>\n",
              "      <td>4.160988</td>\n",
              "      <td>4.580494</td>\n",
              "    </tr>\n",
              "  </tbody>\n",
              "</table>\n",
              "</div>"
            ],
            "text/plain": [
              "             nama_wisata  ...  prediksi_rating_hybrid\n",
              "1  Masjid Islamic Center  ...                4.876486\n",
              "0            Desa Senaru  ...                4.735756\n",
              "2       Pura Batu Bolong  ...                4.580494\n",
              "\n",
              "[3 rows x 5 columns]"
            ]
          },
          "metadata": {
            "tags": []
          },
          "execution_count": 108
        }
      ]
    }
  ]
}